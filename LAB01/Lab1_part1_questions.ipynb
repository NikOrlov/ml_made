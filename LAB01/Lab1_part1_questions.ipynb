{
 "cells": [
  {
   "cell_type": "markdown",
   "metadata": {},
   "source": [
    "*Credits: materials from this notebook belong to YSDA [Practical DL](https://github.com/yandexdataschool/Practical_DL) course. Special thanks for making them available online.*"
   ]
  },
  {
   "cell_type": "markdown",
   "metadata": {},
   "source": [
    "# Lab assignment №1, part 1\n",
    "\n",
    "This lab assignment consists of several parts. You are supposed to make some transformations, train some models, estimate the quality of the models and explain your results.\n",
    "\n",
    "Several comments:\n",
    "* Don't hesitate to ask questions, it's a good practice.\n",
    "* No private/public sharing, please. The copied assignments will be graded with 0 points.\n",
    "* Blocks of this lab will be graded separately."
   ]
  },
  {
   "cell_type": "markdown",
   "metadata": {},
   "source": [
    "## 1. Matrix differentiation"
   ]
  },
  {
   "cell_type": "markdown",
   "metadata": {},
   "source": [
    "Since it easy to google every task please please please try to undestand what's going on. The \"just answer\" thing will be not counted, make sure to present derivation of your solution. It is absolutely OK if you found an answer on web then just exercise in $\\LaTeX$ copying it into here."
   ]
  },
  {
   "cell_type": "markdown",
   "metadata": {},
   "source": [
    "Useful links: \n",
    "[1](http://www.machinelearning.ru/wiki/images/2/2a/Matrix-Gauss.pdf)\n",
    "[2](http://www.atmos.washington.edu/~dennis/MatrixCalculus.pdf)"
   ]
  },
  {
   "cell_type": "markdown",
   "metadata": {},
   "source": [
    "## ex. 1"
   ]
  },
  {
   "cell_type": "markdown",
   "metadata": {},
   "source": [
    "$$  \n",
    "y = x^Tx,  \\quad x \\in \\mathbb{R}^N \n",
    "$$"
   ]
  },
  {
   "cell_type": "markdown",
   "metadata": {},
   "source": [
    "## My solution"
   ]
  },
  {
   "cell_type": "markdown",
   "metadata": {
    "collapsed": true,
    "jupyter": {
     "outputs_hidden": true
    }
   },
   "source": [
    "$$\n",
    "\\frac{dy}{dx} = \n",
    "\\begin{bmatrix}\n",
    "    \\frac{dy}{dx_{1}} \\\\\n",
    "    \\dots \\\\\n",
    "    \\frac{dy}{dx_{i}} \\\\\n",
    "    \\dots \\\\\n",
    "    \\frac{dy}{dx_{n}} \\\\\n",
    "\\end{bmatrix}\n",
    "y = \\sum_{i=1}^nx_{i}^2 \\implies \\frac{dy}{dx_{i}} = 2x_i \\\\\n",
    "\\frac{dy}{dx} = \n",
    "\\begin{bmatrix}\n",
    "    \\frac{dy}{dx_{1}} \\\\\n",
    "    \\dots \\\\\n",
    "    \\frac{dy}{dx_{i}} \\\\\n",
    "    \\dots \\\\\n",
    "    \\frac{dy}{dx_{n}} \\\\\n",
    "\\end{bmatrix}\n",
    "=\n",
    "\\begin{bmatrix}\n",
    "    2x_1 \\\\\n",
    "    \\dots \\\\\n",
    "    2x_i \\\\\n",
    "    \\dots \\\\\n",
    "    2x_n \\\\\n",
    "\\end{bmatrix}\n",
    "=2\n",
    "\\begin{bmatrix}\n",
    "    x_1 \\\\\n",
    "    \\dots \\\\\n",
    "    x_i \\\\\n",
    "    \\dots \\\\\n",
    "    x_n \\\\\n",
    "\\end{bmatrix}\n",
    "= 2x\n",
    "$$\n",
    "$$\\frac{dy}{dx} = 2x$$"
   ]
  },
  {
   "cell_type": "markdown",
   "metadata": {},
   "source": [
    "## ex. 2"
   ]
  },
  {
   "cell_type": "markdown",
   "metadata": {},
   "source": [
    "$$ y = tr(AB) \\quad A,B \\in \\mathbb{R}^{N \\times N} $$ "
   ]
  },
  {
   "cell_type": "markdown",
   "metadata": {},
   "source": [
    "## My solution"
   ]
  },
  {
   "cell_type": "markdown",
   "metadata": {
    "collapsed": true,
    "jupyter": {
     "outputs_hidden": true
    }
   },
   "source": [
    "$$ y = tr(AB) = \\sum_{i=1}^n \\vec{A_i}{B_i} = \\sum_{i=1}^n\\sum_{j=1}^n a_{ij}b_{ji}$$\n",
    "\n",
    "$$\n",
    "\\frac{dy}{dA} = \n",
    "\\begin{bmatrix}\n",
    "\\frac{dy}{da_{11}} & ... & ... \\\\\n",
    "...\n",
    "& \\frac{dy}{da_{ij}} & ... \\\\\n",
    "...\n",
    "& ... & \\frac{dy}{da_{nn}} \\\\\n",
    "\\end{bmatrix}\n",
    "$$\n",
    "\n",
    "$$\n",
    "\\frac{dy}{da_{ij}}=b_{ji} \\implies\n",
    "\\frac{dy}{dA} = \n",
    "\\begin{bmatrix}\n",
    "b_{11} & ... & ... \\\\\n",
    "...\n",
    "& b_{ji} & ... \\\\\n",
    "...\n",
    "& ... & b_{nn} \\\\\n",
    "\\end{bmatrix}\n",
    "=\n",
    "B^{T}\n",
    "$$\n",
    "\n",
    "$$\n",
    "\\frac{dy}{dA} = B^{T}\n",
    "$$"
   ]
  },
  {
   "cell_type": "markdown",
   "metadata": {},
   "source": [
    "## ex. 3"
   ]
  },
  {
   "cell_type": "markdown",
   "metadata": {},
   "source": [
    "$$  \n",
    "y = x^TAc , \\quad A\\in \\mathbb{R}^{N \\times N}, x\\in \\mathbb{R}^{N}, c\\in \\mathbb{R}^{N} \n",
    "$$"
   ]
  },
  {
   "cell_type": "markdown",
   "metadata": {},
   "source": [
    "$$\n",
    "\\frac{dy}{dx} =\n",
    "$$"
   ]
  },
  {
   "cell_type": "markdown",
   "metadata": {},
   "source": [
    "$$\n",
    "\\frac{dy}{dA} =\n",
    "$$ "
   ]
  },
  {
   "cell_type": "markdown",
   "metadata": {},
   "source": [
    "Hint for the latter (one of the ways): use *ex. 2* result and the fact \n",
    "$$\n",
    "tr(ABC) = tr (CAB)\n",
    "$$"
   ]
  },
  {
   "cell_type": "markdown",
   "metadata": {},
   "source": [
    "## My solution"
   ]
  },
  {
   "cell_type": "markdown",
   "metadata": {
    "collapsed": true,
    "jupyter": {
     "outputs_hidden": true
    }
   },
   "source": [
    "$$y = x^{T}Ac = \\sum_{i=1}^nx_i(Ac)_i$$\n",
    "$$\n",
    "\\frac{dy}{dx} = \n",
    "\\begin{bmatrix}\n",
    "    \\frac{dy}{dx_{1}} \\\\\n",
    "    \\dots \\\\\n",
    "    \\frac{dy}{dx_{i}} \\\\\n",
    "    \\dots \\\\\n",
    "    \\frac{dy}{dx_{n}} \\\\\n",
    "\\end{bmatrix}\n",
    "=\n",
    "\\begin{bmatrix}\n",
    "    (Ac)_1 \\\\\n",
    "    \\dots \\\\\n",
    "    (Ac)_i \\\\\n",
    "    \\dots \\\\\n",
    "    (Ac)_n \\\\\n",
    "\\end{bmatrix}\n",
    "=Ac\n",
    "$$\n",
    "\n",
    "$$\\frac{dy}{dx} = Ac$$"
   ]
  },
  {
   "cell_type": "markdown",
   "metadata": {},
   "source": [
    "$$y = x^{T}Ac = \\sum_{i=1}^nx_i(Ac)_i=\\sum_{i=1}^nx_i\\sum_{j=1}^na_{ij}c_j$$\n"
   ]
  },
  {
   "cell_type": "markdown",
   "metadata": {},
   "source": [
    "$$\n",
    "\\frac{dy}{dA} = \n",
    "\\begin{bmatrix}\n",
    "\\frac{dy}{da_{11}} & ... & ... \\\\\n",
    "...\n",
    "& \\frac{dy}{da_{ij}} & ... \\\\\n",
    "...\n",
    "& ... & \\frac{dy}{da_{nn}} \\\\\n",
    "\\end{bmatrix}\n",
    "$$\n",
    "$$\n",
    "\\frac{dy}{da_{ij}}=x_ic_j \\implies\n",
    "\\frac{dy}{dA} = \n",
    "\\begin{bmatrix}\n",
    "x_1c_1 & ... & ... \\\\\n",
    "...\n",
    "& x_ic_j & ... \\\\\n",
    "...\n",
    "& ... & x_nc_n \\\\\n",
    "\\end{bmatrix}\n",
    "=\n",
    "xс^T\n",
    "$$"
   ]
  },
  {
   "cell_type": "markdown",
   "metadata": {},
   "source": [
    "## ex. 4"
   ]
  },
  {
   "cell_type": "markdown",
   "metadata": {},
   "source": [
    "Classic matrix factorization example. Given matrix $X$ you need to find $A$, $S$ to approximate $X$. This can be done by simple gradient descent iteratively alternating $A$ and $S$ updates.\n",
    "$$\n",
    "J = || X - AS ||_F^2  , \\quad A\\in \\mathbb{R}^{N \\times R} , \\quad S\\in \\mathbb{R}^{R \\times M}\n",
    "$$\n",
    "$$\n",
    "\\frac{dJ}{dS} = ? \n",
    "$$\n",
    "\n",
    "You may use one of the following approaches:"
   ]
  },
  {
   "cell_type": "markdown",
   "metadata": {},
   "source": [
    "#### First approach\n",
    "Using ex.2 and the fact:\n",
    "$$\n",
    "|| X ||_F^2 = tr(XX^T) \n",
    "$$ \n",
    "it is easy to derive gradients (you can find it in one of the refs). "
   ]
  },
  {
   "cell_type": "markdown",
   "metadata": {},
   "source": [
    "#### Second approach\n",
    "You can use *slightly different techniques* if they suits you. Take a look at this derivation:\n",
    "<img src=\"screens/grad.png\">\n",
    "(excerpt from [Handbook of blind source separation, Jutten, page 517](https://books.google.ru/books?id=PTbj03bYH6kC&printsec=frontcover&dq=Handbook+of+Blind+Source+Separation&hl=en&sa=X&ved=0ahUKEwi-q_apiJDLAhULvXIKHVXJDWcQ6AEIHDAA#v=onepage&q=Handbook%20of%20Blind%20Source%20Separation&f=false), open for better picture)."
   ]
  },
  {
   "cell_type": "markdown",
   "metadata": {},
   "source": [
    "#### Third approach\n",
    "And finally we can use chain rule! \n",
    "let $ F = AS $ \n",
    "\n",
    "**Find**\n",
    "$$\n",
    "\\frac{dJ}{dF} =  \n",
    "$$ \n",
    "and \n",
    "$$\n",
    "\\frac{dF}{dS} =  \n",
    "$$ \n",
    "(the shape should be $ NM \\times RM )$.\n",
    "\n",
    "Now it is easy do get desired gradients:\n",
    "$$\n",
    "\\frac{dJ}{dS} =  \n",
    "$$ "
   ]
  },
  {
   "cell_type": "markdown",
   "metadata": {},
   "source": [
    "## My solution"
   ]
  },
  {
   "cell_type": "markdown",
   "metadata": {},
   "source": [
    "$$||X - AS||^2_F = tr((X - AS)(X - AS)^T $$\n",
    "\n",
    "$$\n",
    "B = (X - AS) \\implies J = tr(BB^T) = \\sum_{t=1}^n\\sum_{j=1}^mb_{tj}^2 = \\sum_{j=1}^m\\sum_{t=1}^nb_{tj}^2\n",
    "=\n",
    "\\sum_{j=1}^m\\sum_{t=1}^n(x_{tj}-\\vec{A_t}S_j)^2 = \\sum_{j=1}^m\\sum_{t=1}^n(x_{tj} - \\sum_{k=1}^ra_{tk}s_{kj})^2\n",
    "$$\n",
    "\n",
    "$$\n",
    "\\frac{dJ}{dS}=\n",
    "\\begin{bmatrix}\n",
    "\\frac{dJ}{ds_{11}} & ... & ... \\\\\n",
    "...\n",
    "& \\frac{dJ}{ds_{ij}} & ... \\\\\n",
    "...\n",
    "& ... & \\frac{dJ}{ds_{nm}} \\\\\n",
    "\\end{bmatrix}\n",
    "$$\n",
    "\n",
    "$$\n",
    "\\frac{dJ}{ds_{ij}} = 2\\sum_{t=1}^n(x_{tj} - \\sum_{k=1}^ra_{tk}s_{kj}) * (-a_{ti})\n",
    "=\n",
    "2\\sum_{t=1}^n(x_{tj} - \\vec{A_t}S_j) * (-a_{ti}) = -2\\sum_{t=1}^na_{ti}(x_{tj} - \\vec{A_t}S_j)\n",
    "$$\n",
    "\n",
    "$$\n",
    "\\frac{dJ}{S} = -2 A^T(X-AS)\n",
    "$$"
   ]
  },
  {
   "cell_type": "markdown",
   "metadata": {
    "collapsed": true,
    "jupyter": {
     "outputs_hidden": true
    }
   },
   "source": [
    "## 2. kNN questions\n",
    "Here come the questions from the assignment0_01. Please, refer to the assignment0_01 to get the context of the questions."
   ]
  },
  {
   "cell_type": "markdown",
   "metadata": {},
   "source": [
    "### Question 1\n",
    "\n",
    "Notice the structured patterns in the distance matrix, where some rows or columns are visible brighter. (Note that with the default color scheme black indicates low distances while white indicates high distances.)\n",
    "\n",
    "- What in the data is the cause behind the distinctly bright rows?\n",
    "- What causes the columns?\n",
    "\n",
    "*Your Answer:*\n",
    "\n",
    "\n"
   ]
  },
  {
   "cell_type": "markdown",
   "metadata": {},
   "source": [
    "## My solution"
   ]
  },
  {
   "cell_type": "markdown",
   "metadata": {},
   "source": [
    "### По строкам\n",
    "Глазами патерн по строкам плохо воспринимается (имхо), матрица расстояний больше напоминает белый шум. Чтобы разобраться, посчитал среднее значение расстояния каждого тестового примера со всеми примерами из train-датасета.\n",
    "\n",
    "Более светлые строки соответствуют большей дистанции, поэтому сравним для наглядности тестовые примеры с минимальным и максимальным значением среднего расстояния.\n",
    "\n",
    "Ощущение, будто бы максимальному расстоянию соответствуют примеры, с ярко выраженными линиями, а не размазанные по всей области средним значением."
   ]
  },
  {
   "cell_type": "markdown",
   "metadata": {},
   "source": [
    "*Распределение средних-растояний*\n",
    "<img src=\"screens/rows_hist.png\">"
   ]
  },
  {
   "cell_type": "markdown",
   "metadata": {},
   "source": [
    "*Визуализация тестовых примеров с минимальным и максимальным значением среднего расстояния*\n",
    "<img src=\"screens/rows_plot.png\">"
   ]
  },
  {
   "cell_type": "markdown",
   "metadata": {},
   "source": [
    "### По столбцам\n",
    "На *train*-данных размытие самое большое у примеров с **min** `mean-distance`,\n",
    "самые резкие значения у примеров с **max** `mean-distance`\n"
   ]
  },
  {
   "cell_type": "markdown",
   "metadata": {},
   "source": [
    "*Распределение средних-растояний*\n",
    "<img src=\"screens/cols_hist.png\">"
   ]
  },
  {
   "cell_type": "markdown",
   "metadata": {},
   "source": [
    "*Визуализация тестовых примеров с минимальным и максимальным значением среднего расстояния*\n",
    "<img src=\"screens/cols_plot.png\">\n"
   ]
  },
  {
   "cell_type": "markdown",
   "metadata": {},
   "source": [
    "### Question 2\n",
    "\n",
    "We can also use other distance metrics such as L1 distance.\n",
    "For pixel values $p_{ij}^{(k)}$ at location $(i,j)$ of some image $I_k$, \n",
    "\n",
    "the mean $\\mu$ across all pixels over all images is $$\\mu=\\frac{1}{nhw}\\sum_{k=1}^n\\sum_{i=1}^{h}\\sum_{j=1}^{w}p_{ij}^{(k)}$$\n",
    "And the pixel-wise mean $\\mu_{ij}$ across all images is \n",
    "$$\\mu_{ij}=\\frac{1}{n}\\sum_{k=1}^np_{ij}^{(k)}.$$\n",
    "The general standard deviation $\\sigma$ and pixel-wise standard deviation $\\sigma_{ij}$ is defined similarly.\n",
    "\n",
    "Which of the following preprocessing steps will not change the performance of a Nearest Neighbor classifier that uses L1 distance? Select all that apply.\n",
    "1. Subtracting the mean $\\mu$ ($\\tilde{p}_{ij}^{(k)}=p_{ij}^{(k)}-\\mu$.)\n",
    "2. Subtracting the per pixel mean $\\mu_{ij}$  ($\\tilde{p}_{ij}^{(k)}=p_{ij}^{(k)}-\\mu_{ij}$.)\n",
    "3. Subtracting the mean $\\mu$ and dividing by the standard deviation $\\sigma$.\n",
    "4. Subtracting the pixel-wise mean $\\mu_{ij}$ and dividing by the pixel-wise standard deviation $\\sigma_{ij}$.\n",
    "5. Rotating the coordinate axes of the data.\n",
    "\n",
    "*Your Answer:*\n",
    "\n",
    "\n",
    "*Your Explanation:*\n",
    "\n"
   ]
  },
  {
   "cell_type": "markdown",
   "metadata": {},
   "source": [
    "## My solution"
   ]
  },
  {
   "cell_type": "markdown",
   "metadata": {},
   "source": [
    "На примере двух матриц **A** и **B** будем сравнивать изменение метрики.\n",
    " В оригинале:\n",
    " $$|A - B|_1=\\sum_{k=1}^n|A_{ij} - B_{ij}|$$\n",
    " 1. Вычитаем константу $\\mu$ -  **ничего не поменялось**\n",
    "  $$|A^{(1)} - B^{(1)}|_1=\\sum_{k=1}^n|(A_{ij} - \\mu) - (B_{ij} - \\mu)| =\n",
    "  \\sum_{k=1}^n|A_{ij} - \\mu - B_{ij} + \\mu| = \\sum_{k=1}^n|(A_{ij} - B_{ij})| = |A - B|_1 $$\n",
    "  \n",
    "  \n",
    " 2. Вычитаем константу по каждому признаку $\\mu_{ij}$-  **ничего не поменялось**\n",
    "  $$|A^{(2)} - B^{(2)}|_1=\\sum_{k=1}^n|(A_{ij} - \\mu_{ij}) - (B_{ij} - \\mu_{ij})| =\n",
    "  \\sum_{k=1}^n|A_{ij} - \\mu_{ij} - B_{ij} + \\mu_{ij}| = \\sum_{k=1}^n|(A_{ij} - B_{ij})| = |A - B|_1 $$\n",
    "\n",
    "\n",
    " 3. Вычитаем константу $\\mu$ и делим на константу $\\sigma$ -  все расстояния изменятся в $\\sigma$ раз, т.к $\\sigma$ > 0, то - **ничего не поменяется**\n",
    "   $$|A^{(3)} - B^{(3)}|_1=\\sum_{k=1}^n|\\frac{A_{ij} - \\mu}{\\sigma} - \\frac{B_{ij} - \\mu}{\\sigma}| =\n",
    "  \\sum_{k=1}^n|\\frac{A_{ij} - \\mu - B_{ij} + \\mu}{\\sigma}| = \\sum_{k=1}^n|\\frac{A_{ij} - B_{ij}}{\\sigma}| = \\frac{1}{\\sigma}\\sum_{k=1}^nA_{ij} - B_{ij} = \\frac{1}{\\sigma}|A - B|_1 $$\n",
    "  \n",
    "  \n",
    " 4. Вычитаем константу $\\mu_{ij}$ и делим на константу $\\sigma_{ij}$ - мы изменяем вклад каждой компоненты,  cжимаем каждый признак по-разному - нарушается исходных порядок вещей (в вопросе исходных расстояний до преобразований) - **поменяется**\n",
    " \n",
    " \n",
    "   $$|A^{(4)} - B^{(4)}|_1=\\sum_{k=1}^n|\\frac{A_{ij} - \\mu_{ij}}{\\sigma_{ij}} - \\frac{B_{ij} - \\mu_{ij}}{\\sigma_{ij}}| =\n",
    "  \\sum_{k=1}^n|\\frac{A_{ij} - \\mu_{ij} - B_{ij} + \\mu_{ij}}{\\sigma_{ij}}| = \\sum_{k=1}^n|\\frac{A_{ij} - B_{ij}}{\\sigma_{ij}}| = \\sum_{k=1}^n\\frac{1}{\\sigma_{ij}}|A_{ij} - B_{ij}|$$\n",
    "  \n",
    " 5. Поворот - **поменяется**\n",
    " \n",
    " Пример (точки двумерной плоскости): Z = [0, 0] A = [1, 1], B = [0, -2]\n",
    " $$|A - Z|_1 = 2, |B - Z|_1 = 2$$\n",
    " \n",
    " Вращаем на 45 градусов: Z = [0, 0] $A^{(1)}$ = [0, $\\sqrt{2}$], $B^{(1)}$ = [$\\sqrt{2}$, -$\\sqrt{2}$]\n",
    " \n",
    "  $$|A - Z|_1 = \\sqrt{2}, |B - Z|_1 = 2\\sqrt{2}$$\n",
    "   $$|A - Z|_1 \\neq |B - Z|_1 $$"
   ]
  },
  {
   "cell_type": "markdown",
   "metadata": {},
   "source": [
    "## Question 3\n",
    "\n",
    "Which of the following statements about $k$-Nearest Neighbor ($k$-NN) are true in a classification setting, and for all $k$? Select all that apply.\n",
    "1. The decision boundary (hyperplane between classes in feature space) of the k-NN classifier is linear.\n",
    "2. The training error of a 1-NN will always be lower than that of 5-NN.\n",
    "3. The test error of a 1-NN will always be lower than that of a 5-NN.\n",
    "4. The time needed to classify a test example with the k-NN classifier grows with the size of the training set.\n",
    "5. None of the above.\n",
    "\n",
    "*Your Answer:*\n",
    "\n",
    "\n",
    "*Your Explanation:*\n"
   ]
  },
  {
   "cell_type": "markdown",
   "metadata": {},
   "source": [
    "## My solution"
   ]
  },
  {
   "cell_type": "markdown",
   "metadata": {},
   "source": [
    "    1. Нет, граница нелинейная\n",
    "    2. Да, 1-NN сам на себе обучится, выбор метки зависит от ближайшего соседа=сам => train error = 0,\n",
    "     в K-NN ошибка может быть ненулевой, так как соседи могут повлиять на метку (случай outlier)\n",
    "     \n",
    "    3. Нет, 1-NN сильно переобучается под обучающую выборку, поэтому на тестовых данных неустойчив (test score будет скорее всего ниже чем у k-NN)\n",
    "    4. Да, мы для каждого примера в обучающей выборке должны посчитать расстояние до входящего примера => \n",
    "    увеличение выборки (обучающего датасета) увеличивает время работы KNN\n",
    "    5. Нет, т.к. есть правильные утверждения (п.2, п.4)"
   ]
  },
  {
   "cell_type": "code",
   "execution_count": null,
   "metadata": {},
   "outputs": [],
   "source": []
  }
 ],
 "metadata": {
  "kernelspec": {
   "display_name": "Python 3",
   "language": "python",
   "name": "python3"
  },
  "language_info": {
   "codemirror_mode": {
    "name": "ipython",
    "version": 3
   },
   "file_extension": ".py",
   "mimetype": "text/x-python",
   "name": "python",
   "nbconvert_exporter": "python",
   "pygments_lexer": "ipython3",
   "version": "3.8.5"
  }
 },
 "nbformat": 4,
 "nbformat_minor": 4
}
