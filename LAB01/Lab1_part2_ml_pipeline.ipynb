{
 "cells": [
  {
   "cell_type": "markdown",
   "metadata": {
    "nbgrader": {
     "grade": false,
     "grade_id": "cell-86e0de040aac317a",
     "locked": true,
     "schema_version": 2,
     "solution": false
    }
   },
   "source": [
    "# Lab assignment №1, part 2\n",
    "\n",
    "This lab assignment consists of several parts. You are supposed to make some transformations, train some models, estimate the quality of the models and explain your results.\n",
    "\n",
    "Several comments:\n",
    "* Don't hesitate to ask questions, it's a good practice.\n",
    "* No private/public sharing, please. The copied assignments will be graded with 0 points.\n",
    "* Blocks of this lab will be graded separately."
   ]
  },
  {
   "cell_type": "markdown",
   "metadata": {},
   "source": [
    "__*This is the second part of the assignment. First and third parts are waiting for you in the same directory.*__"
   ]
  },
  {
   "cell_type": "markdown",
   "metadata": {
    "nbgrader": {
     "grade": false,
     "grade_id": "cell-512ba712fc0fc065",
     "locked": true,
     "schema_version": 2,
     "solution": false
    }
   },
   "source": [
    "## Part 2. Data preprocessing, model training and evaluation."
   ]
  },
  {
   "cell_type": "markdown",
   "metadata": {
    "nbgrader": {
     "grade": false,
     "grade_id": "cell-b656a4266174b009",
     "locked": true,
     "schema_version": 2,
     "solution": false
    }
   },
   "source": [
    "### 1. Reading the data\n",
    "Today we work with the [dataset](https://archive.ics.uci.edu/ml/datasets/Statlog+%28Vehicle+Silhouettes%29), describing different cars for multiclass ($k=4$) classification problem. The data is available below."
   ]
  },
  {
   "cell_type": "code",
   "execution_count": 1,
   "metadata": {},
   "outputs": [],
   "source": [
    "# If on colab, uncomment the following lines\n",
    "\n",
    "# ! wget https://raw.githubusercontent.com/girafe-ai/ml-course/22f_made/homeworks/lab01_ml_pipeline/car_data.csv"
   ]
  },
  {
   "cell_type": "code",
   "execution_count": 2,
   "metadata": {
    "nbgrader": {
     "grade": false,
     "grade_id": "cell-eebac6bfdf73d0bc",
     "locked": true,
     "schema_version": 2,
     "solution": false
    }
   },
   "outputs": [
    {
     "name": "stdout",
     "output_type": "stream",
     "text": [
      "(846, 19) (846,)\n",
      "(549, 19) (549,) (297, 19) (297,)\n"
     ]
    }
   ],
   "source": [
    "import pandas as pd\n",
    "import numpy as np\n",
    "from sklearn.model_selection import train_test_split\n",
    "\n",
    "dataset = pd.read_csv('car_data.csv', delimiter=',', header=None).values\n",
    "data = dataset[:, :-1].astype(int)\n",
    "target = dataset[:, -1]\n",
    "\n",
    "print(data.shape, target.shape)\n",
    "\n",
    "X_train, X_test, y_train, y_test = train_test_split(data, target, test_size=0.35)\n",
    "print(X_train.shape, y_train.shape, X_test.shape, y_test.shape)"
   ]
  },
  {
   "cell_type": "markdown",
   "metadata": {
    "nbgrader": {
     "grade": false,
     "grade_id": "cell-88b1a0f688568f2c",
     "locked": true,
     "schema_version": 2,
     "solution": false
    }
   },
   "source": [
    "To get some insights about the dataset, `pandas` might be used. The `train` part is transformed to `pd.DataFrame` below."
   ]
  },
  {
   "cell_type": "code",
   "execution_count": 3,
   "metadata": {},
   "outputs": [
    {
     "data": {
      "text/html": [
       "<div>\n",
       "<style scoped>\n",
       "    .dataframe tbody tr th:only-of-type {\n",
       "        vertical-align: middle;\n",
       "    }\n",
       "\n",
       "    .dataframe tbody tr th {\n",
       "        vertical-align: top;\n",
       "    }\n",
       "\n",
       "    .dataframe thead th {\n",
       "        text-align: right;\n",
       "    }\n",
       "</style>\n",
       "<table border=\"1\" class=\"dataframe\">\n",
       "  <thead>\n",
       "    <tr style=\"text-align: right;\">\n",
       "      <th></th>\n",
       "      <th>0</th>\n",
       "      <th>1</th>\n",
       "      <th>2</th>\n",
       "      <th>3</th>\n",
       "      <th>4</th>\n",
       "      <th>5</th>\n",
       "      <th>6</th>\n",
       "      <th>7</th>\n",
       "      <th>8</th>\n",
       "      <th>9</th>\n",
       "      <th>10</th>\n",
       "      <th>11</th>\n",
       "      <th>12</th>\n",
       "      <th>13</th>\n",
       "      <th>14</th>\n",
       "      <th>15</th>\n",
       "      <th>16</th>\n",
       "      <th>17</th>\n",
       "      <th>18</th>\n",
       "    </tr>\n",
       "  </thead>\n",
       "  <tbody>\n",
       "    <tr>\n",
       "      <th>0</th>\n",
       "      <td>495</td>\n",
       "      <td>94</td>\n",
       "      <td>45</td>\n",
       "      <td>72</td>\n",
       "      <td>179</td>\n",
       "      <td>69</td>\n",
       "      <td>6</td>\n",
       "      <td>156</td>\n",
       "      <td>41</td>\n",
       "      <td>19</td>\n",
       "      <td>144</td>\n",
       "      <td>181</td>\n",
       "      <td>373</td>\n",
       "      <td>191</td>\n",
       "      <td>69</td>\n",
       "      <td>5</td>\n",
       "      <td>5</td>\n",
       "      <td>193</td>\n",
       "      <td>198</td>\n",
       "    </tr>\n",
       "    <tr>\n",
       "      <th>1</th>\n",
       "      <td>224</td>\n",
       "      <td>86</td>\n",
       "      <td>41</td>\n",
       "      <td>66</td>\n",
       "      <td>133</td>\n",
       "      <td>56</td>\n",
       "      <td>6</td>\n",
       "      <td>136</td>\n",
       "      <td>49</td>\n",
       "      <td>18</td>\n",
       "      <td>136</td>\n",
       "      <td>155</td>\n",
       "      <td>274</td>\n",
       "      <td>162</td>\n",
       "      <td>74</td>\n",
       "      <td>5</td>\n",
       "      <td>14</td>\n",
       "      <td>183</td>\n",
       "      <td>189</td>\n",
       "    </tr>\n",
       "    <tr>\n",
       "      <th>2</th>\n",
       "      <td>671</td>\n",
       "      <td>103</td>\n",
       "      <td>41</td>\n",
       "      <td>83</td>\n",
       "      <td>194</td>\n",
       "      <td>63</td>\n",
       "      <td>9</td>\n",
       "      <td>175</td>\n",
       "      <td>38</td>\n",
       "      <td>21</td>\n",
       "      <td>142</td>\n",
       "      <td>199</td>\n",
       "      <td>455</td>\n",
       "      <td>138</td>\n",
       "      <td>65</td>\n",
       "      <td>7</td>\n",
       "      <td>30</td>\n",
       "      <td>197</td>\n",
       "      <td>206</td>\n",
       "    </tr>\n",
       "    <tr>\n",
       "      <th>3</th>\n",
       "      <td>638</td>\n",
       "      <td>97</td>\n",
       "      <td>49</td>\n",
       "      <td>76</td>\n",
       "      <td>203</td>\n",
       "      <td>73</td>\n",
       "      <td>7</td>\n",
       "      <td>178</td>\n",
       "      <td>36</td>\n",
       "      <td>21</td>\n",
       "      <td>157</td>\n",
       "      <td>194</td>\n",
       "      <td>487</td>\n",
       "      <td>186</td>\n",
       "      <td>72</td>\n",
       "      <td>0</td>\n",
       "      <td>7</td>\n",
       "      <td>197</td>\n",
       "      <td>200</td>\n",
       "    </tr>\n",
       "    <tr>\n",
       "      <th>4</th>\n",
       "      <td>136</td>\n",
       "      <td>86</td>\n",
       "      <td>48</td>\n",
       "      <td>75</td>\n",
       "      <td>136</td>\n",
       "      <td>58</td>\n",
       "      <td>10</td>\n",
       "      <td>161</td>\n",
       "      <td>43</td>\n",
       "      <td>20</td>\n",
       "      <td>163</td>\n",
       "      <td>170</td>\n",
       "      <td>371</td>\n",
       "      <td>185</td>\n",
       "      <td>75</td>\n",
       "      <td>3</td>\n",
       "      <td>1</td>\n",
       "      <td>183</td>\n",
       "      <td>192</td>\n",
       "    </tr>\n",
       "    <tr>\n",
       "      <th>5</th>\n",
       "      <td>514</td>\n",
       "      <td>89</td>\n",
       "      <td>38</td>\n",
       "      <td>74</td>\n",
       "      <td>138</td>\n",
       "      <td>59</td>\n",
       "      <td>7</td>\n",
       "      <td>136</td>\n",
       "      <td>49</td>\n",
       "      <td>18</td>\n",
       "      <td>133</td>\n",
       "      <td>167</td>\n",
       "      <td>278</td>\n",
       "      <td>128</td>\n",
       "      <td>72</td>\n",
       "      <td>7</td>\n",
       "      <td>7</td>\n",
       "      <td>189</td>\n",
       "      <td>193</td>\n",
       "    </tr>\n",
       "    <tr>\n",
       "      <th>6</th>\n",
       "      <td>431</td>\n",
       "      <td>99</td>\n",
       "      <td>47</td>\n",
       "      <td>91</td>\n",
       "      <td>226</td>\n",
       "      <td>74</td>\n",
       "      <td>5</td>\n",
       "      <td>202</td>\n",
       "      <td>32</td>\n",
       "      <td>23</td>\n",
       "      <td>148</td>\n",
       "      <td>234</td>\n",
       "      <td>629</td>\n",
       "      <td>186</td>\n",
       "      <td>79</td>\n",
       "      <td>4</td>\n",
       "      <td>11</td>\n",
       "      <td>192</td>\n",
       "      <td>191</td>\n",
       "    </tr>\n",
       "    <tr>\n",
       "      <th>7</th>\n",
       "      <td>421</td>\n",
       "      <td>98</td>\n",
       "      <td>48</td>\n",
       "      <td>101</td>\n",
       "      <td>195</td>\n",
       "      <td>61</td>\n",
       "      <td>11</td>\n",
       "      <td>207</td>\n",
       "      <td>31</td>\n",
       "      <td>23</td>\n",
       "      <td>152</td>\n",
       "      <td>227</td>\n",
       "      <td>650</td>\n",
       "      <td>193</td>\n",
       "      <td>71</td>\n",
       "      <td>5</td>\n",
       "      <td>7</td>\n",
       "      <td>189</td>\n",
       "      <td>196</td>\n",
       "    </tr>\n",
       "    <tr>\n",
       "      <th>8</th>\n",
       "      <td>464</td>\n",
       "      <td>100</td>\n",
       "      <td>49</td>\n",
       "      <td>80</td>\n",
       "      <td>206</td>\n",
       "      <td>70</td>\n",
       "      <td>6</td>\n",
       "      <td>183</td>\n",
       "      <td>35</td>\n",
       "      <td>21</td>\n",
       "      <td>156</td>\n",
       "      <td>206</td>\n",
       "      <td>517</td>\n",
       "      <td>198</td>\n",
       "      <td>73</td>\n",
       "      <td>3</td>\n",
       "      <td>13</td>\n",
       "      <td>198</td>\n",
       "      <td>199</td>\n",
       "    </tr>\n",
       "    <tr>\n",
       "      <th>9</th>\n",
       "      <td>225</td>\n",
       "      <td>93</td>\n",
       "      <td>41</td>\n",
       "      <td>79</td>\n",
       "      <td>159</td>\n",
       "      <td>63</td>\n",
       "      <td>8</td>\n",
       "      <td>144</td>\n",
       "      <td>46</td>\n",
       "      <td>19</td>\n",
       "      <td>150</td>\n",
       "      <td>165</td>\n",
       "      <td>309</td>\n",
       "      <td>134</td>\n",
       "      <td>67</td>\n",
       "      <td>4</td>\n",
       "      <td>9</td>\n",
       "      <td>195</td>\n",
       "      <td>203</td>\n",
       "    </tr>\n",
       "    <tr>\n",
       "      <th>10</th>\n",
       "      <td>537</td>\n",
       "      <td>86</td>\n",
       "      <td>40</td>\n",
       "      <td>66</td>\n",
       "      <td>139</td>\n",
       "      <td>59</td>\n",
       "      <td>7</td>\n",
       "      <td>122</td>\n",
       "      <td>54</td>\n",
       "      <td>17</td>\n",
       "      <td>139</td>\n",
       "      <td>145</td>\n",
       "      <td>225</td>\n",
       "      <td>143</td>\n",
       "      <td>63</td>\n",
       "      <td>7</td>\n",
       "      <td>11</td>\n",
       "      <td>202</td>\n",
       "      <td>208</td>\n",
       "    </tr>\n",
       "    <tr>\n",
       "      <th>11</th>\n",
       "      <td>678</td>\n",
       "      <td>86</td>\n",
       "      <td>45</td>\n",
       "      <td>70</td>\n",
       "      <td>122</td>\n",
       "      <td>56</td>\n",
       "      <td>7</td>\n",
       "      <td>148</td>\n",
       "      <td>45</td>\n",
       "      <td>19</td>\n",
       "      <td>144</td>\n",
       "      <td>170</td>\n",
       "      <td>324</td>\n",
       "      <td>186</td>\n",
       "      <td>84</td>\n",
       "      <td>9</td>\n",
       "      <td>5</td>\n",
       "      <td>180</td>\n",
       "      <td>183</td>\n",
       "    </tr>\n",
       "    <tr>\n",
       "      <th>12</th>\n",
       "      <td>668</td>\n",
       "      <td>94</td>\n",
       "      <td>46</td>\n",
       "      <td>91</td>\n",
       "      <td>175</td>\n",
       "      <td>70</td>\n",
       "      <td>12</td>\n",
       "      <td>157</td>\n",
       "      <td>43</td>\n",
       "      <td>20</td>\n",
       "      <td>155</td>\n",
       "      <td>172</td>\n",
       "      <td>358</td>\n",
       "      <td>192</td>\n",
       "      <td>69</td>\n",
       "      <td>15</td>\n",
       "      <td>21</td>\n",
       "      <td>190</td>\n",
       "      <td>200</td>\n",
       "    </tr>\n",
       "    <tr>\n",
       "      <th>13</th>\n",
       "      <td>276</td>\n",
       "      <td>83</td>\n",
       "      <td>46</td>\n",
       "      <td>73</td>\n",
       "      <td>137</td>\n",
       "      <td>59</td>\n",
       "      <td>6</td>\n",
       "      <td>148</td>\n",
       "      <td>45</td>\n",
       "      <td>19</td>\n",
       "      <td>146</td>\n",
       "      <td>167</td>\n",
       "      <td>327</td>\n",
       "      <td>183</td>\n",
       "      <td>75</td>\n",
       "      <td>8</td>\n",
       "      <td>0</td>\n",
       "      <td>185</td>\n",
       "      <td>191</td>\n",
       "    </tr>\n",
       "    <tr>\n",
       "      <th>14</th>\n",
       "      <td>703</td>\n",
       "      <td>93</td>\n",
       "      <td>43</td>\n",
       "      <td>78</td>\n",
       "      <td>162</td>\n",
       "      <td>64</td>\n",
       "      <td>8</td>\n",
       "      <td>137</td>\n",
       "      <td>48</td>\n",
       "      <td>18</td>\n",
       "      <td>145</td>\n",
       "      <td>156</td>\n",
       "      <td>281</td>\n",
       "      <td>159</td>\n",
       "      <td>63</td>\n",
       "      <td>17</td>\n",
       "      <td>12</td>\n",
       "      <td>203</td>\n",
       "      <td>210</td>\n",
       "    </tr>\n",
       "  </tbody>\n",
       "</table>\n",
       "</div>"
      ],
      "text/plain": [
       "     0    1   2    3    4   5   6    7   8   9    10   11   12   13  14  15  \\\n",
       "0   495   94  45   72  179  69   6  156  41  19  144  181  373  191  69   5   \n",
       "1   224   86  41   66  133  56   6  136  49  18  136  155  274  162  74   5   \n",
       "2   671  103  41   83  194  63   9  175  38  21  142  199  455  138  65   7   \n",
       "3   638   97  49   76  203  73   7  178  36  21  157  194  487  186  72   0   \n",
       "4   136   86  48   75  136  58  10  161  43  20  163  170  371  185  75   3   \n",
       "5   514   89  38   74  138  59   7  136  49  18  133  167  278  128  72   7   \n",
       "6   431   99  47   91  226  74   5  202  32  23  148  234  629  186  79   4   \n",
       "7   421   98  48  101  195  61  11  207  31  23  152  227  650  193  71   5   \n",
       "8   464  100  49   80  206  70   6  183  35  21  156  206  517  198  73   3   \n",
       "9   225   93  41   79  159  63   8  144  46  19  150  165  309  134  67   4   \n",
       "10  537   86  40   66  139  59   7  122  54  17  139  145  225  143  63   7   \n",
       "11  678   86  45   70  122  56   7  148  45  19  144  170  324  186  84   9   \n",
       "12  668   94  46   91  175  70  12  157  43  20  155  172  358  192  69  15   \n",
       "13  276   83  46   73  137  59   6  148  45  19  146  167  327  183  75   8   \n",
       "14  703   93  43   78  162  64   8  137  48  18  145  156  281  159  63  17   \n",
       "\n",
       "    16   17   18  \n",
       "0    5  193  198  \n",
       "1   14  183  189  \n",
       "2   30  197  206  \n",
       "3    7  197  200  \n",
       "4    1  183  192  \n",
       "5    7  189  193  \n",
       "6   11  192  191  \n",
       "7    7  189  196  \n",
       "8   13  198  199  \n",
       "9    9  195  203  \n",
       "10  11  202  208  \n",
       "11   5  180  183  \n",
       "12  21  190  200  \n",
       "13   0  185  191  \n",
       "14  12  203  210  "
      ]
     },
     "execution_count": 3,
     "metadata": {},
     "output_type": "execute_result"
    }
   ],
   "source": [
    "X_train_pd = pd.DataFrame(X_train)\n",
    "\n",
    "# First 15 rows of our dataset.\n",
    "X_train_pd.head(15)"
   ]
  },
  {
   "cell_type": "markdown",
   "metadata": {
    "nbgrader": {
     "grade": false,
     "grade_id": "cell-98e7d91d77d65fcf",
     "locked": true,
     "schema_version": 2,
     "solution": false
    }
   },
   "source": [
    "Methods `describe` and `info` deliver some useful information."
   ]
  },
  {
   "cell_type": "code",
   "execution_count": 4,
   "metadata": {},
   "outputs": [
    {
     "data": {
      "text/html": [
       "<div>\n",
       "<style scoped>\n",
       "    .dataframe tbody tr th:only-of-type {\n",
       "        vertical-align: middle;\n",
       "    }\n",
       "\n",
       "    .dataframe tbody tr th {\n",
       "        vertical-align: top;\n",
       "    }\n",
       "\n",
       "    .dataframe thead th {\n",
       "        text-align: right;\n",
       "    }\n",
       "</style>\n",
       "<table border=\"1\" class=\"dataframe\">\n",
       "  <thead>\n",
       "    <tr style=\"text-align: right;\">\n",
       "      <th></th>\n",
       "      <th>0</th>\n",
       "      <th>1</th>\n",
       "      <th>2</th>\n",
       "      <th>3</th>\n",
       "      <th>4</th>\n",
       "      <th>5</th>\n",
       "      <th>6</th>\n",
       "      <th>7</th>\n",
       "      <th>8</th>\n",
       "      <th>9</th>\n",
       "      <th>10</th>\n",
       "      <th>11</th>\n",
       "      <th>12</th>\n",
       "      <th>13</th>\n",
       "      <th>14</th>\n",
       "      <th>15</th>\n",
       "      <th>16</th>\n",
       "      <th>17</th>\n",
       "      <th>18</th>\n",
       "    </tr>\n",
       "  </thead>\n",
       "  <tbody>\n",
       "    <tr>\n",
       "      <th>count</th>\n",
       "      <td>549.000000</td>\n",
       "      <td>549.000000</td>\n",
       "      <td>549.000000</td>\n",
       "      <td>549.000000</td>\n",
       "      <td>549.000000</td>\n",
       "      <td>549.000000</td>\n",
       "      <td>549.000000</td>\n",
       "      <td>549.000000</td>\n",
       "      <td>549.000000</td>\n",
       "      <td>549.000000</td>\n",
       "      <td>549.000000</td>\n",
       "      <td>549.000000</td>\n",
       "      <td>549.000000</td>\n",
       "      <td>549.000000</td>\n",
       "      <td>549.000000</td>\n",
       "      <td>549.000000</td>\n",
       "      <td>549.000000</td>\n",
       "      <td>549.000000</td>\n",
       "      <td>549.000000</td>\n",
       "    </tr>\n",
       "    <tr>\n",
       "      <th>mean</th>\n",
       "      <td>424.642987</td>\n",
       "      <td>94.058288</td>\n",
       "      <td>45.145719</td>\n",
       "      <td>82.897996</td>\n",
       "      <td>171.258652</td>\n",
       "      <td>62.010929</td>\n",
       "      <td>8.683060</td>\n",
       "      <td>170.571949</td>\n",
       "      <td>40.573770</td>\n",
       "      <td>20.721311</td>\n",
       "      <td>148.530055</td>\n",
       "      <td>190.635701</td>\n",
       "      <td>449.663024</td>\n",
       "      <td>176.080146</td>\n",
       "      <td>72.482696</td>\n",
       "      <td>6.466302</td>\n",
       "      <td>12.810565</td>\n",
       "      <td>188.976321</td>\n",
       "      <td>195.748634</td>\n",
       "    </tr>\n",
       "    <tr>\n",
       "      <th>std</th>\n",
       "      <td>250.823520</td>\n",
       "      <td>8.419231</td>\n",
       "      <td>6.300611</td>\n",
       "      <td>16.225615</td>\n",
       "      <td>34.661009</td>\n",
       "      <td>8.390333</td>\n",
       "      <td>5.118104</td>\n",
       "      <td>34.212208</td>\n",
       "      <td>8.026901</td>\n",
       "      <td>2.657574</td>\n",
       "      <td>14.786976</td>\n",
       "      <td>32.734587</td>\n",
       "      <td>181.906884</td>\n",
       "      <td>33.234142</td>\n",
       "      <td>7.730767</td>\n",
       "      <td>5.022327</td>\n",
       "      <td>8.939405</td>\n",
       "      <td>6.063335</td>\n",
       "      <td>7.383809</td>\n",
       "    </tr>\n",
       "    <tr>\n",
       "      <th>min</th>\n",
       "      <td>0.000000</td>\n",
       "      <td>77.000000</td>\n",
       "      <td>33.000000</td>\n",
       "      <td>40.000000</td>\n",
       "      <td>109.000000</td>\n",
       "      <td>47.000000</td>\n",
       "      <td>2.000000</td>\n",
       "      <td>112.000000</td>\n",
       "      <td>26.000000</td>\n",
       "      <td>17.000000</td>\n",
       "      <td>119.000000</td>\n",
       "      <td>130.000000</td>\n",
       "      <td>184.000000</td>\n",
       "      <td>112.000000</td>\n",
       "      <td>59.000000</td>\n",
       "      <td>0.000000</td>\n",
       "      <td>0.000000</td>\n",
       "      <td>176.000000</td>\n",
       "      <td>181.000000</td>\n",
       "    </tr>\n",
       "    <tr>\n",
       "      <th>25%</th>\n",
       "      <td>206.000000</td>\n",
       "      <td>87.000000</td>\n",
       "      <td>40.000000</td>\n",
       "      <td>70.000000</td>\n",
       "      <td>141.000000</td>\n",
       "      <td>57.000000</td>\n",
       "      <td>6.000000</td>\n",
       "      <td>147.000000</td>\n",
       "      <td>33.000000</td>\n",
       "      <td>19.000000</td>\n",
       "      <td>137.000000</td>\n",
       "      <td>168.000000</td>\n",
       "      <td>319.000000</td>\n",
       "      <td>149.000000</td>\n",
       "      <td>67.000000</td>\n",
       "      <td>2.000000</td>\n",
       "      <td>6.000000</td>\n",
       "      <td>185.000000</td>\n",
       "      <td>191.000000</td>\n",
       "    </tr>\n",
       "    <tr>\n",
       "      <th>50%</th>\n",
       "      <td>427.000000</td>\n",
       "      <td>93.000000</td>\n",
       "      <td>45.000000</td>\n",
       "      <td>81.000000</td>\n",
       "      <td>172.000000</td>\n",
       "      <td>61.000000</td>\n",
       "      <td>8.000000</td>\n",
       "      <td>158.000000</td>\n",
       "      <td>42.000000</td>\n",
       "      <td>20.000000</td>\n",
       "      <td>147.000000</td>\n",
       "      <td>182.000000</td>\n",
       "      <td>368.000000</td>\n",
       "      <td>174.000000</td>\n",
       "      <td>71.000000</td>\n",
       "      <td>6.000000</td>\n",
       "      <td>11.000000</td>\n",
       "      <td>189.000000</td>\n",
       "      <td>197.000000</td>\n",
       "    </tr>\n",
       "    <tr>\n",
       "      <th>75%</th>\n",
       "      <td>645.000000</td>\n",
       "      <td>100.000000</td>\n",
       "      <td>51.000000</td>\n",
       "      <td>100.000000</td>\n",
       "      <td>197.000000</td>\n",
       "      <td>65.000000</td>\n",
       "      <td>10.000000</td>\n",
       "      <td>201.000000</td>\n",
       "      <td>46.000000</td>\n",
       "      <td>23.000000</td>\n",
       "      <td>160.000000</td>\n",
       "      <td>219.000000</td>\n",
       "      <td>611.000000</td>\n",
       "      <td>200.000000</td>\n",
       "      <td>75.000000</td>\n",
       "      <td>9.000000</td>\n",
       "      <td>19.000000</td>\n",
       "      <td>193.000000</td>\n",
       "      <td>201.000000</td>\n",
       "    </tr>\n",
       "    <tr>\n",
       "      <th>max</th>\n",
       "      <td>845.000000</td>\n",
       "      <td>117.000000</td>\n",
       "      <td>59.000000</td>\n",
       "      <td>112.000000</td>\n",
       "      <td>333.000000</td>\n",
       "      <td>138.000000</td>\n",
       "      <td>55.000000</td>\n",
       "      <td>265.000000</td>\n",
       "      <td>61.000000</td>\n",
       "      <td>29.000000</td>\n",
       "      <td>188.000000</td>\n",
       "      <td>320.000000</td>\n",
       "      <td>1018.000000</td>\n",
       "      <td>268.000000</td>\n",
       "      <td>135.000000</td>\n",
       "      <td>22.000000</td>\n",
       "      <td>41.000000</td>\n",
       "      <td>206.000000</td>\n",
       "      <td>211.000000</td>\n",
       "    </tr>\n",
       "  </tbody>\n",
       "</table>\n",
       "</div>"
      ],
      "text/plain": [
       "               0           1           2           3           4           5   \\\n",
       "count  549.000000  549.000000  549.000000  549.000000  549.000000  549.000000   \n",
       "mean   424.642987   94.058288   45.145719   82.897996  171.258652   62.010929   \n",
       "std    250.823520    8.419231    6.300611   16.225615   34.661009    8.390333   \n",
       "min      0.000000   77.000000   33.000000   40.000000  109.000000   47.000000   \n",
       "25%    206.000000   87.000000   40.000000   70.000000  141.000000   57.000000   \n",
       "50%    427.000000   93.000000   45.000000   81.000000  172.000000   61.000000   \n",
       "75%    645.000000  100.000000   51.000000  100.000000  197.000000   65.000000   \n",
       "max    845.000000  117.000000   59.000000  112.000000  333.000000  138.000000   \n",
       "\n",
       "               6           7           8           9           10          11  \\\n",
       "count  549.000000  549.000000  549.000000  549.000000  549.000000  549.000000   \n",
       "mean     8.683060  170.571949   40.573770   20.721311  148.530055  190.635701   \n",
       "std      5.118104   34.212208    8.026901    2.657574   14.786976   32.734587   \n",
       "min      2.000000  112.000000   26.000000   17.000000  119.000000  130.000000   \n",
       "25%      6.000000  147.000000   33.000000   19.000000  137.000000  168.000000   \n",
       "50%      8.000000  158.000000   42.000000   20.000000  147.000000  182.000000   \n",
       "75%     10.000000  201.000000   46.000000   23.000000  160.000000  219.000000   \n",
       "max     55.000000  265.000000   61.000000   29.000000  188.000000  320.000000   \n",
       "\n",
       "                12          13          14          15          16  \\\n",
       "count   549.000000  549.000000  549.000000  549.000000  549.000000   \n",
       "mean    449.663024  176.080146   72.482696    6.466302   12.810565   \n",
       "std     181.906884   33.234142    7.730767    5.022327    8.939405   \n",
       "min     184.000000  112.000000   59.000000    0.000000    0.000000   \n",
       "25%     319.000000  149.000000   67.000000    2.000000    6.000000   \n",
       "50%     368.000000  174.000000   71.000000    6.000000   11.000000   \n",
       "75%     611.000000  200.000000   75.000000    9.000000   19.000000   \n",
       "max    1018.000000  268.000000  135.000000   22.000000   41.000000   \n",
       "\n",
       "               17          18  \n",
       "count  549.000000  549.000000  \n",
       "mean   188.976321  195.748634  \n",
       "std      6.063335    7.383809  \n",
       "min    176.000000  181.000000  \n",
       "25%    185.000000  191.000000  \n",
       "50%    189.000000  197.000000  \n",
       "75%    193.000000  201.000000  \n",
       "max    206.000000  211.000000  "
      ]
     },
     "execution_count": 4,
     "metadata": {},
     "output_type": "execute_result"
    }
   ],
   "source": [
    "X_train_pd.describe()"
   ]
  },
  {
   "cell_type": "code",
   "execution_count": 5,
   "metadata": {},
   "outputs": [
    {
     "name": "stdout",
     "output_type": "stream",
     "text": [
      "<class 'pandas.core.frame.DataFrame'>\n",
      "RangeIndex: 549 entries, 0 to 548\n",
      "Data columns (total 19 columns):\n",
      " #   Column  Non-Null Count  Dtype\n",
      "---  ------  --------------  -----\n",
      " 0   0       549 non-null    int64\n",
      " 1   1       549 non-null    int64\n",
      " 2   2       549 non-null    int64\n",
      " 3   3       549 non-null    int64\n",
      " 4   4       549 non-null    int64\n",
      " 5   5       549 non-null    int64\n",
      " 6   6       549 non-null    int64\n",
      " 7   7       549 non-null    int64\n",
      " 8   8       549 non-null    int64\n",
      " 9   9       549 non-null    int64\n",
      " 10  10      549 non-null    int64\n",
      " 11  11      549 non-null    int64\n",
      " 12  12      549 non-null    int64\n",
      " 13  13      549 non-null    int64\n",
      " 14  14      549 non-null    int64\n",
      " 15  15      549 non-null    int64\n",
      " 16  16      549 non-null    int64\n",
      " 17  17      549 non-null    int64\n",
      " 18  18      549 non-null    int64\n",
      "dtypes: int64(19)\n",
      "memory usage: 81.6 KB\n"
     ]
    }
   ],
   "source": [
    "X_train_pd.info()"
   ]
  },
  {
   "cell_type": "markdown",
   "metadata": {
    "nbgrader": {
     "grade": false,
     "grade_id": "cell-be844269be69c387",
     "locked": true,
     "schema_version": 2,
     "solution": false
    }
   },
   "source": [
    "### 2. Machine Learning pipeline\n",
    "Here you are supposed to perform the desired transformations. Please, explain your results briefly after each task."
   ]
  },
  {
   "cell_type": "markdown",
   "metadata": {},
   "source": [
    "#### 2.0. Data preprocessing\n",
    "* Make some transformations of the dataset (if necessary). Briefly explain the transformations"
   ]
  },
  {
   "cell_type": "code",
   "execution_count": 6,
   "metadata": {
    "nbgrader": {
     "grade": true,
     "grade_id": "cell-a1514aa189a49fca",
     "locked": false,
     "points": 15,
     "schema_version": 2,
     "solution": true
    }
   },
   "outputs": [],
   "source": [
    "### YOUR CODE HERE"
   ]
  },
  {
   "cell_type": "code",
   "execution_count": 7,
   "metadata": {},
   "outputs": [],
   "source": [
    "from collections import Counter"
   ]
  },
  {
   "cell_type": "markdown",
   "metadata": {},
   "source": [
    "Посмотрим на баланс классов:"
   ]
  },
  {
   "cell_type": "code",
   "execution_count": 8,
   "metadata": {},
   "outputs": [
    {
     "data": {
      "text/plain": [
       "Counter({'bus': 135, 'saab': 145, 'opel': 151, 'van': 118})"
      ]
     },
     "execution_count": 8,
     "metadata": {},
     "output_type": "execute_result"
    }
   ],
   "source": [
    "Counter(y_train)"
   ]
  },
  {
   "cell_type": "code",
   "execution_count": 9,
   "metadata": {},
   "outputs": [],
   "source": [
    "from sklearn.preprocessing import StandardScaler    "
   ]
  },
  {
   "cell_type": "code",
   "execution_count": 10,
   "metadata": {},
   "outputs": [],
   "source": [
    "scaler = StandardScaler()\n",
    "X_train_norm = scaler.fit_transform(X_train)"
   ]
  },
  {
   "cell_type": "markdown",
   "metadata": {},
   "source": [
    "#### 2.1. Basic logistic regression\n",
    "* Find optimal hyperparameters for logistic regression with cross-validation on the `train` data (small grid/random search is enough, no need to find the *best* parameters).\n",
    "\n",
    "* Estimate the model quality with `f1` and `accuracy` scores.\n",
    "* Plot a ROC-curve for the trained model. For the multiclass case you might use `scikitplot` library (e.g. `scikitplot.metrics.plot_roc(test_labels, predicted_proba)`).\n",
    "\n",
    "*Note: please, use the following hyperparameters for logistic regression: `multi_class='multinomial'`, `solver='saga'` `tol=1e-3` and ` max_iter=500`.*"
   ]
  },
  {
   "cell_type": "code",
   "execution_count": 12,
   "metadata": {
    "nbgrader": {
     "grade": true,
     "grade_id": "cell-1dd5ad5d0845cbbb",
     "locked": false,
     "points": 5,
     "schema_version": 2,
     "solution": true
    }
   },
   "outputs": [],
   "source": [
    "### YOUR CODE HERE"
   ]
  },
  {
   "cell_type": "code",
   "execution_count": 55,
   "metadata": {},
   "outputs": [],
   "source": [
    "from sklearn.linear_model import LogisticRegression\n",
    "from sklearn.model_selection import GridSearchCV\n",
    "from sklearn.metrics import accuracy_score, f1_score, plot_roc_curve"
   ]
  },
  {
   "cell_type": "code",
   "execution_count": 51,
   "metadata": {},
   "outputs": [],
   "source": [
    "def get_best_model(X, y, model, params, cv=5, info=''):\n",
    "    gs_model = GridSearchCV(model, param_grid=params, cv=cv, )\n",
    "    gs_model.fit(X, y)\n",
    "\n",
    "    best_model = gs_model.best_estimator_\n",
    "    best_score = gs_model.best_score_\n",
    "    \n",
    "    print(f'Best {info} train score: {best_model}')\n",
    "    print(f'Best {info} train estimator: {best_score}\\n')\n",
    "    return best_model, best_score"
   ]
  },
  {
   "cell_type": "code",
   "execution_count": 52,
   "metadata": {},
   "outputs": [],
   "source": [
    "def test_model(model, X, y, info=''):\n",
    "    y_pred = model.predict(X)\n",
    "    y_pred_proba = model.predict_proba(X)\n",
    "    \n",
    "    f1 = round(f1_score(y, y_pred, average='macro') ,3)\n",
    "    acc = round(accuracy_score(y, y_pred), 3)\n",
    "    \n",
    "    print(f'F1 score {info} : {f1}')\n",
    "    print(f'Accuracy score {info} : {acc}\\n')\n",
    "    return f1, acc"
   ]
  },
  {
   "cell_type": "code",
   "execution_count": null,
   "metadata": {},
   "outputs": [],
   "source": [
    "get_best_model(X, y, model, params, cv=5, info='')"
   ]
  },
  {
   "cell_type": "code",
   "execution_count": 15,
   "metadata": {},
   "outputs": [
    {
     "name": "stdout",
     "output_type": "stream",
     "text": [
      "0.7760133444537114\n",
      "LogisticRegression(C=21.544346900318832, max_iter=500,\n",
      "                   multi_class='multinomial', solver='saga', tol=0.001)\n"
     ]
    }
   ],
   "source": [
    "cv = 5\n",
    "C_params = {'C': np.logspace(0, 3, num=10)}\n",
    "logreg = LogisticRegression(solver='saga', tol=1e-3, max_iter=500, multi_class='multinomial')\n",
    "\n",
    "gs_norm = GridSearchCV(logreg, C_params, cv=cv)\n",
    "gs_norm.fit(X_train_norm, y_train)\n",
    "\n",
    "print(gs_norm.best_score_)\n",
    "print(gs_norm.best_estimator_)\n",
    "logreg_norm = gs_norm.best_estimator_"
   ]
  },
  {
   "cell_type": "code",
   "execution_count": 16,
   "metadata": {
    "scrolled": true
   },
   "outputs": [
    {
     "name": "stdout",
     "output_type": "stream",
     "text": [
      "f1-score on normalized data: 0.799\n",
      "Accuracy-score on normalized data: 0.815\n"
     ]
    }
   ],
   "source": [
    "X_test_norm = scaler.transform(X_test)\n",
    "y_pred = logreg_norm.predict(X_test_norm)\n",
    "y_pred_proba = logreg_norm.predict_proba(X_test_norm)\n",
    "\n",
    "f1_norm_res = np.round(f1_score(y_pred, y_test, average='macro'), 3)\n",
    "acc_norm_res = np.round(accuracy_score(y_pred, y_test), 3)\n",
    "\n",
    "print(f'f1-score on normalized data: {f1_norm_res}')\n",
    "print(f'Accuracy-score on normalized data: {acc_norm_res}')\n"
   ]
  },
  {
   "cell_type": "code",
   "execution_count": 17,
   "metadata": {},
   "outputs": [],
   "source": [
    "import scikitplot"
   ]
  },
  {
   "cell_type": "code",
   "execution_count": 18,
   "metadata": {},
   "outputs": [
    {
     "data": {
      "text/plain": [
       "<AxesSubplot:title={'center':'ROC Curves'}, xlabel='False Positive Rate', ylabel='True Positive Rate'>"
      ]
     },
     "execution_count": 18,
     "metadata": {},
     "output_type": "execute_result"
    },
    {
     "data": {
      "image/png": "[encoded data removed]",
      "text/plain": [
       "<Figure size 640x480 with 1 Axes>"
      ]
     },
     "metadata": {},
     "output_type": "display_data"
    }
   ],
   "source": [
    "scikitplot.metrics.plot_roc(y_test, y_pred_proba)"
   ]
  },
  {
   "cell_type": "code",
   "execution_count": 19,
   "metadata": {},
   "outputs": [],
   "source": [
    "# You might use this command to install scikit-plot. \n",
    "# Warning, if you a running locally, don't call pip from within jupyter, call it from terminal in the corresponding \n",
    "# virtual environment instead\n",
    "\n",
    "# ! pip install scikit-plot"
   ]
  },
  {
   "cell_type": "markdown",
   "metadata": {},
   "source": [
    "#### 2.2. PCA: explained variance plot\n",
    "* Apply the PCA to the train part of the data. Build the explaided variance plot. "
   ]
  },
  {
   "cell_type": "code",
   "execution_count": 20,
   "metadata": {},
   "outputs": [],
   "source": [
    "from sklearn.decomposition import PCA"
   ]
  },
  {
   "cell_type": "code",
   "execution_count": 21,
   "metadata": {},
   "outputs": [],
   "source": [
    "from matplotlib import pyplot as plt"
   ]
  },
  {
   "cell_type": "code",
   "execution_count": 22,
   "metadata": {},
   "outputs": [],
   "source": [
    "def plot_pca_var(data):\n",
    "    pca_transformer = PCA()\n",
    "    pca_transformer.fit(data)\n",
    "    pca_vars = pca_transformer.explained_variance_ratio_ * 100\n",
    "    cum_vars = np.cumsum(pca_vars)\n",
    "    \n",
    "    plt.bar(np.arange(len(pca_vars)), pca_vars)\n",
    "    plt.plot(np.arange(len(pca_vars)), cum_vars, color='green', marker='o', linestyle='dashed')\n",
    "    plt.hlines(y=90, xmin=0, xmax=18, color='red')"
   ]
  },
  {
   "cell_type": "code",
   "execution_count": 23,
   "metadata": {},
   "outputs": [
    {
     "data": {
      "image/png": "[encoded data removed]",
      "text/plain": [
       "<Figure size 640x480 with 1 Axes>"
      ]
     },
     "metadata": {},
     "output_type": "display_data"
    }
   ],
   "source": [
    "plot_pca_var(X_train_norm)"
   ]
  },
  {
   "cell_type": "markdown",
   "metadata": {
    "nbgrader": {
     "grade": false,
     "grade_id": "cell-0c1fe666f52fe53c",
     "locked": true,
     "schema_version": 2,
     "solution": false
    }
   },
   "source": [
    "#### 2.3. PCA trasformation\n",
    "* Select the appropriate number of components. Briefly explain your choice. Should you normalize the data?\n",
    "\n",
    "*Use `fit` and `transform` methods to transform the `train` and `test` parts.*"
   ]
  },
  {
   "cell_type": "markdown",
   "metadata": {},
   "source": [
    "Я в начале хотел взять 6 компонент, чтобы сохранить 90%, но потом получил качество accuarcy=0.44, поэтому переиграем и возьмем 11"
   ]
  },
  {
   "cell_type": "code",
   "execution_count": 24,
   "metadata": {
    "nbgrader": {
     "grade": true,
     "grade_id": "cell-96ab18d96473ef71",
     "locked": false,
     "points": 5,
     "schema_version": 2,
     "solution": true
    }
   },
   "outputs": [
    {
     "name": "stdout",
     "output_type": "stream",
     "text": [
      "12\n"
     ]
    }
   ],
   "source": [
    "### YOUR CODE HERE\n",
    "pca_transformer = PCA()\n",
    "pca_transformer.fit(X_train_norm)\n",
    "pca_vars = pca_transformer.explained_variance_ratio_ * 100\n",
    "cum_vars = np.cumsum(pca_vars)\n",
    "num_components = np.argwhere(cum_vars > 99).min() + 1\n",
    "print(num_components)"
   ]
  },
  {
   "cell_type": "code",
   "execution_count": 25,
   "metadata": {},
   "outputs": [],
   "source": [
    "from sklearn.pipeline import Pipeline"
   ]
  },
  {
   "cell_type": "code",
   "execution_count": 26,
   "metadata": {},
   "outputs": [],
   "source": [
    "pipe = Pipeline([\n",
    "    ('scaler', StandardScaler()),\n",
    "    ('pca', PCA(n_components=num_components))])"
   ]
  },
  {
   "cell_type": "code",
   "execution_count": 27,
   "metadata": {},
   "outputs": [
    {
     "name": "stdout",
     "output_type": "stream",
     "text": [
      "X train shape: (549, 12)\n",
      "X test shape: (297, 12)\n"
     ]
    }
   ],
   "source": [
    "X_train_pca = pipe.fit_transform(X_train)\n",
    "X_test_pca = pipe.transform(X_test)\n",
    "print(f'X train shape: {X_train_pca.shape}')\n",
    "print(f'X test shape: {X_test_pca.shape}')"
   ]
  },
  {
   "cell_type": "markdown",
   "metadata": {},
   "source": [
    "### Should you normalize the data?\n",
    "\n",
    "Как будет выглядеть график, если не нормализовать признаки"
   ]
  },
  {
   "cell_type": "code",
   "execution_count": 28,
   "metadata": {},
   "outputs": [],
   "source": [
    "cov = X_train_pd.cov()"
   ]
  },
  {
   "cell_type": "code",
   "execution_count": 29,
   "metadata": {},
   "outputs": [
    {
     "data": {
      "text/plain": [
       "(array([17.,  0.,  0.,  0.,  0.,  1.,  0.,  0.,  0.,  1.]),\n",
       " array([7.06270193e+00, 6.29760023e+03, 1.25881378e+04, 1.88786753e+04,\n",
       "        2.51692128e+04, 3.14597504e+04, 3.77502879e+04, 4.40408254e+04,\n",
       "        5.03313629e+04, 5.66219005e+04, 6.29124380e+04]),\n",
       " <BarContainer object of 10 artists>)"
      ]
     },
     "execution_count": 29,
     "metadata": {},
     "output_type": "execute_result"
    },
    {
     "data": {
      "image/png": "[encoded data removed]",
      "text/plain": [
       "<Figure size 640x480 with 1 Axes>"
      ]
     },
     "metadata": {},
     "output_type": "display_data"
    }
   ],
   "source": [
    "plt.hist(np.diag(cov))"
   ]
  },
  {
   "cell_type": "markdown",
   "metadata": {},
   "source": [
    " Видим, что ковариация принимает аномально большие значения в двух признаках, PCA выгодно обращать на них внимание, ибо на них изначально самая большая \"неустойчивость\".\n",
    "Разложение на компоненты на рисунке ниже подтверждает предположение.\n",
    "\n",
    "Перед PCA нужно проводить нормализацию"
   ]
  },
  {
   "cell_type": "code",
   "execution_count": 30,
   "metadata": {},
   "outputs": [
    {
     "data": {
      "image/png": "[encoded data removed]",
      "text/plain": [
       "<Figure size 640x480 with 1 Axes>"
      ]
     },
     "metadata": {},
     "output_type": "display_data"
    }
   ],
   "source": [
    "plot_pca_var(X_train)"
   ]
  },
  {
   "cell_type": "markdown",
   "metadata": {},
   "source": [
    "**Note: From this point `sklearn` [Pipeline](https://scikit-learn.org/stable/modules/compose.html) might be useful to perform transformations on the data. Refer to the [docs](https://scikit-learn.org/stable/modules/generated/sklearn.pipeline.Pipeline.html) for more information.**"
   ]
  },
  {
   "cell_type": "markdown",
   "metadata": {
    "nbgrader": {
     "grade": false,
     "grade_id": "cell-d28b58a35c94e988",
     "locked": true,
     "schema_version": 2,
     "solution": false
    }
   },
   "source": [
    "#### 2.4. Logistic regression on PCA-preprocessed data.\n",
    "* Find optimal hyperparameters for logistic regression with cross-validation on the transformed by PCA `train` data.\n",
    "\n",
    "* Estimate the model quality with `f1` and `accuracy` scores.\n",
    "* Plot a ROC-curve for the trained model. For the multiclass case you might use `scikitplot` library (e.g. `scikitplot.metrics.plot_roc(test_labels, predicted_proba)`).\n",
    "\n",
    "*Note: please, use the following hyperparameters for logistic regression: `multi_class='multinomial'`, `solver='saga'` and `tol=1e-3`*"
   ]
  },
  {
   "cell_type": "code",
   "execution_count": 31,
   "metadata": {
    "nbgrader": {
     "grade": true,
     "grade_id": "cell-12d53ea45258fa82",
     "locked": false,
     "points": 5,
     "schema_version": 2,
     "solution": true
    }
   },
   "outputs": [],
   "source": [
    "### YOUR CODE HERE"
   ]
  },
  {
   "cell_type": "code",
   "execution_count": 32,
   "metadata": {},
   "outputs": [
    {
     "name": "stdout",
     "output_type": "stream",
     "text": [
      "X train shape: (549, 12)\n",
      "X test shape: (297, 12)\n"
     ]
    }
   ],
   "source": [
    "num_components = 12\n",
    "pipe = Pipeline([\n",
    "    ('scaler', StandardScaler()),\n",
    "    ('pca', PCA(n_components=num_components))])\n",
    "\n",
    "X_train_pca = pipe.fit_transform(X_train)\n",
    "X_test_pca = pipe.transform(X_test)\n",
    "print(f'X train shape: {X_train_pca.shape}')\n",
    "print(f'X test shape: {X_test_pca.shape}')"
   ]
  },
  {
   "cell_type": "code",
   "execution_count": 33,
   "metadata": {
    "scrolled": true
   },
   "outputs": [
    {
     "name": "stdout",
     "output_type": "stream",
     "text": [
      "Best score: 0.7286738949124271\n",
      "Best estimator: LogisticRegression(max_iter=500, multi_class='multinomial', solver='saga',\n",
      "                   tol=0.001)\n"
     ]
    }
   ],
   "source": [
    "cv=5\n",
    "params_pca = {'C': np.logspace(0, 3, num=10)}\n",
    "logreg_pca = LogisticRegression(solver='saga', max_iter=500, multi_class='multinomial', tol=1e-3)\n",
    "gs_pca = GridSearchCV(logreg_pca, params_pca, cv=cv)\n",
    "gs_pca.fit(X_train_pca, y_train)\n",
    "\n",
    "logreg_pca = gs_pca.best_estimator_\n",
    "print(f'Best score: {gs_pca.best_score_}')\n",
    "print(f'Best estimator: {gs_pca.best_estimator_}')"
   ]
  },
  {
   "cell_type": "code",
   "execution_count": 34,
   "metadata": {},
   "outputs": [
    {
     "name": "stdout",
     "output_type": "stream",
     "text": [
      "f1-score on normalized data: 0.735\n",
      "Accuracy-score on normalized data: 0.754\n"
     ]
    }
   ],
   "source": [
    "y_pred = logreg_pca.predict(X_test_pca)\n",
    "y_pred_proba = logreg_pca.predict_proba(X_test_pca)\n",
    "\n",
    "f1_norm_res = np.round(f1_score(y_pred, y_test, average='macro'), 3)\n",
    "acc_norm_res = np.round(accuracy_score(y_pred, y_test), 3)\n",
    "\n",
    "print(f'f1-score on normalized data: {f1_norm_res}')\n",
    "print(f'Accuracy-score on normalized data: {acc_norm_res}')"
   ]
  },
  {
   "cell_type": "code",
   "execution_count": 35,
   "metadata": {},
   "outputs": [
    {
     "data": {
      "text/plain": [
       "<AxesSubplot:title={'center':'ROC Curves'}, xlabel='False Positive Rate', ylabel='True Positive Rate'>"
      ]
     },
     "execution_count": 35,
     "metadata": {},
     "output_type": "execute_result"
    },
    {
     "data": {
      "image/png": "[encoded data removed]",
      "text/plain": [
       "<Figure size 640x480 with 1 Axes>"
      ]
     },
     "metadata": {},
     "output_type": "display_data"
    }
   ],
   "source": [
    "scikitplot.metrics.plot_roc(y_test, y_pred_proba)"
   ]
  },
  {
   "cell_type": "markdown",
   "metadata": {
    "nbgrader": {
     "grade": false,
     "grade_id": "cell-4fbf16c64076e139",
     "locked": true,
     "schema_version": 2,
     "solution": false
    }
   },
   "source": [
    "#### 2.5. Decision tree\n",
    "* Now train a desicion tree on the same data. Find optimal tree depth (`max_depth`) using cross-validation.\n",
    "\n",
    "* Measure the model quality using the same metrics you used above."
   ]
  },
  {
   "cell_type": "code",
   "execution_count": 53,
   "metadata": {},
   "outputs": [
    {
     "data": {
      "text/plain": [
       "(549, 12)"
      ]
     },
     "execution_count": 53,
     "metadata": {},
     "output_type": "execute_result"
    }
   ],
   "source": [
    "X_train_pca.shape"
   ]
  },
  {
   "cell_type": "code",
   "execution_count": 56,
   "metadata": {},
   "outputs": [],
   "source": [
    "def process_data(pipe, X1, X2):\n",
    "    X1_transformed = pipeline_norm.fit_transform(X1)\n",
    "    X2_transformed = pipeline_norm.transform(X2)\n",
    "    return X1_transformed, X2_transformed"
   ]
  },
  {
   "cell_type": "code",
   "execution_count": 59,
   "metadata": {},
   "outputs": [],
   "source": [
    "X_train_norm, X_test_norm = process_data(pipeline_norm, X_train, X_test)\n",
    "X_train_pca, X_test_pca = process_data(pipeline_norm, X_train, X_test)"
   ]
  },
  {
   "cell_type": "code",
   "execution_count": 61,
   "metadata": {
    "nbgrader": {
     "grade": true,
     "grade_id": "cell-748ed20b51c67fab",
     "locked": false,
     "points": 15,
     "schema_version": 2,
     "solution": true
    }
   },
   "outputs": [
    {
     "name": "stdout",
     "output_type": "stream",
     "text": [
      "Best without transforms train score: DecisionTreeClassifier(criterion='entropy', max_depth=6)\n",
      "Best without transforms train estimator: 0.6995496246872392\n",
      "\n",
      "Best with normalization train score: DecisionTreeClassifier(criterion='entropy', max_depth=6)\n",
      "Best with normalization train estimator: 0.6958798999165972\n",
      "\n",
      "Best with normalization and PCA train score: DecisionTreeClassifier(criterion='entropy', max_depth=6)\n",
      "Best with normalization and PCA train estimator: 0.6958965804837364\n",
      "\n",
      "F1 score without transforms : 0.731\n",
      "Accuracy score without transforms : 0.744\n",
      "\n",
      "F1 score with normalization : 0.73\n",
      "Accuracy score with normalization : 0.744\n",
      "\n",
      "F1 score with normalization and PCA : 0.709\n",
      "Accuracy score with normalization and PCA : 0.734\n",
      "\n"
     ]
    }
   ],
   "source": [
    "from sklearn.tree import DecisionTreeClassifier\n",
    "pipeline_pca = Pipeline([\n",
    "    ('scaler', StandardScaler()),\n",
    "    ('pca', PCA(n_components=num_components))\n",
    "])\n",
    "pipeline_norm = Pipeline([\n",
    "    ('scaler', StandardScaler()),\n",
    "])\n",
    "\n",
    "# X_train_norm = pipeline_norm.fit_transform(X_train)\n",
    "# X_test_norm = pipeline_norm.transform(X_test)\n",
    "\n",
    "# X_train_pca = pipeline_pca.fit_transform(X_train)\n",
    "# X_test_pca = pipeline_pca.transform(X_test)\n",
    "\n",
    "\n",
    "tree_params = {'criterion':['gini', 'entropy'],\n",
    "              'splitter': ['best', 'random'],\n",
    "              'max_depth': np.arange(2,50)}\n",
    "cv = 5\n",
    "seed = 42\n",
    "tree_model = DecisionTreeClassifier(random_state=seed)\n",
    "\n",
    "tree_vanilla, tree_tree_vanilla_score = get_best_model(X_train,\n",
    "                                                       y_train, \n",
    "                                                       DecisionTreeClassifier(),\n",
    "                                                       tree_params,\n",
    "                                                       info='without transforms')\n",
    "\n",
    "tree_norm, tree_norm_score = get_best_model(X_train_norm,\n",
    "                                            y_train,\n",
    "                                            DecisionTreeClassifier(),\n",
    "                                            tree_params,\n",
    "                                            info='with normalization')\n",
    "\n",
    "tree_pca, tree_pca_score = get_best_model(X_train_pca,\n",
    "                                          y_train,\n",
    "                                          DecisionTreeClassifier(),\n",
    "                                          tree_params,\n",
    "                                          info='with normalization and PCA')\n",
    "\n",
    "\n",
    "f1_vanilla, acc_vanilla = test_model(tree_vanilla,\n",
    "                                     X_test,\n",
    "                                     y_test,\n",
    "                                     info='without transforms')\n",
    "\n",
    "f1_norm, acc_norm = test_model(tree_norm, \n",
    "                               X_test_norm, \n",
    "                               y_test, \n",
    "                               info='with normalization')\n",
    "\n",
    "f1_pca, acc_pca = test_model(tree_pca,\n",
    "                             X_test_pca,\n",
    "                             y_test,\n",
    "                             info='with normalization and PCA')\n",
    "\n",
    "\n",
    "# YOUR CODE HERE"
   ]
  },
  {
   "cell_type": "markdown",
   "metadata": {},
   "source": [
    "Best without transforms train score: DecisionTreeClassifier(criterion='entropy', max_depth=32, splitter='random')\n",
    "Best without transforms train estimator: 0.6941618015012511\n",
    "\n",
    "Best with normalization train score: DecisionTreeClassifier(max_depth=8, splitter='random')\n",
    "Best with normalization train estimator: 0.6958131776480402\n",
    "\n",
    "Best with normalization and PCA train score: DecisionTreeClassifier(criterion='entropy', max_depth=10)\n",
    "Best with normalization and PCA train estimator: 0.6613010842368641\n",
    "\n",
    "F1 score without transforms : 0.694\n",
    "Accuracy score without transforms : 0.71\n",
    "\n",
    "F1 score with normalization : 0.668\n",
    "Accuracy score with normalization : 0.68\n",
    "\n",
    "F1 score with normalization and PCA : 0.639\n",
    "Accuracy score with normalization and PCA : 0.657"
   ]
  },
  {
   "cell_type": "markdown",
   "metadata": {},
   "source": [
    "Заметим:\n",
    "- нормализация практически не влияет на качество классификации и модели-дерева \n",
    "- PCA вообще вредит"
   ]
  },
  {
   "cell_type": "markdown",
   "metadata": {
    "nbgrader": {
     "grade": false,
     "grade_id": "cell-9eadd4d8a03ae67a",
     "locked": true,
     "schema_version": 2,
     "solution": false
    }
   },
   "source": [
    "#### 2.6. Bagging.\n",
    "Here starts the ensembling part.\n",
    "\n",
    "First we will use the __Bagging__ approach. Build an ensemble of $N$ algorithms varying N from $N_{min}=2$ to $N_{max}=100$ (with step 5).\n",
    "\n",
    "We will build two ensembles: of logistic regressions and of decision trees.\n",
    "\n",
    "*Comment: each ensemble should be constructed from models of the same family, so logistic regressions should not be mixed up with decision trees.*\n",
    "\n",
    "\n",
    "*Hint 1: To build a __Bagging__ ensebmle varying the ensemble size efficiently you might generate $N_{max}$ subsets of `train` data (of the same size as the original dataset) using bootstrap procedure once. Then you train a new instance of logistic regression/decision tree with optimal hyperparameters you estimated before on each subset (so you train it from scratch). Finally, to get an ensemble of $N$ models you average the $N$ out of $N_{max}$ models predictions.*\n",
    "\n",
    "*Hint 2: sklearn might help you with this taks. Some appropriate function/class might be out there.*\n",
    "\n",
    "* Plot `f1` and `accuracy` scores plots w.r.t. the size of the ensemble.\n",
    "\n",
    "* Briefly analyse the plot. What is the optimal number of algorithms? Explain your answer.\n",
    "\n",
    "* How do you think, are the hyperparameters for the decision trees you found in 2.5 optimal for trees used in ensemble? "
   ]
  },
  {
   "cell_type": "code",
   "execution_count": null,
   "metadata": {
    "nbgrader": {
     "grade": true,
     "grade_id": "cell-8fc95a2b206bdae1",
     "locked": false,
     "points": 35,
     "schema_version": 2,
     "solution": true
    }
   },
   "outputs": [],
   "source": [
    "# YOUR CODE HERE"
   ]
  },
  {
   "cell_type": "code",
   "execution_count": null,
   "metadata": {},
   "outputs": [],
   "source": []
  },
  {
   "cell_type": "markdown",
   "metadata": {
    "nbgrader": {
     "grade": false,
     "grade_id": "cell-241b7691ab44cbfb",
     "locked": true,
     "schema_version": 2,
     "solution": false
    }
   },
   "source": [
    "#### 2.7. Random Forest\n",
    "Now we will work with the Random Forest (its `sklearn` implementation).\n",
    "\n",
    "* * Plot `f1` and `accuracy` scores plots w.r.t. the number of trees in Random Forest.\n",
    "\n",
    "* What is the optimal number of trees you've got? Is it different from the optimal number of logistic regressions/decision trees in 2.6? Explain the results briefly."
   ]
  },
  {
   "cell_type": "code",
   "execution_count": null,
   "metadata": {
    "nbgrader": {
     "grade": true,
     "grade_id": "cell-888755d0f3d91620",
     "locked": false,
     "points": 15,
     "schema_version": 2,
     "solution": true
    }
   },
   "outputs": [],
   "source": [
    "from sklearn.ensemble import RandomForestClassifier\n",
    "\n",
    "# YOUR CODE HERE"
   ]
  },
  {
   "cell_type": "markdown",
   "metadata": {
    "nbgrader": {
     "grade": false,
     "grade_id": "cell-99191c0852538d4d",
     "locked": true,
     "schema_version": 2,
     "solution": false
    }
   },
   "source": [
    "#### 2.8. Learning curve\n",
    "Your goal is to estimate, how does the model behaviour change with the increase of the `train` dataset size.\n",
    "\n",
    "* Split the training data into 10 equal (almost) parts. Then train the models from above (Logistic regression, Desicion Tree, Random Forest) with optimal hyperparameters you have selected on 1 part, 2 parts (combined, so the train size in increased by 2 times), 3 parts and so on.\n",
    "\n",
    "* Build a plot of `accuracy` and `f1` scores on `test` part, varying the `train` dataset size (so the axes will be score - dataset size.\n",
    "\n",
    "* Analyse the final plot. Can you make any conlusions using it? "
   ]
  },
  {
   "cell_type": "code",
   "execution_count": null,
   "metadata": {
    "nbgrader": {
     "grade": true,
     "grade_id": "cell-e39bc7e7dff61ff9",
     "locked": false,
     "points": 15,
     "schema_version": 2,
     "solution": true
    }
   },
   "outputs": [],
   "source": [
    "# YOUR CODE HERE"
   ]
  }
 ],
 "metadata": {
  "celltoolbar": "Create Assignment",
  "kernelspec": {
   "display_name": "Python 3 (ipykernel)",
   "language": "python",
   "name": "python3"
  },
  "language_info": {
   "codemirror_mode": {
    "name": "ipython",
    "version": 3
   },
   "file_extension": ".py",
   "mimetype": "text/x-python",
   "name": "python",
   "nbconvert_exporter": "python",
   "pygments_lexer": "ipython3",
   "version": "3.9.7"
  },
  "toc": {
   "base_numbering": 1,
   "nav_menu": {},
   "number_sections": false,
   "sideBar": true,
   "skip_h1_title": false,
   "title_cell": "Table of Contents",
   "title_sidebar": "Contents",
   "toc_cell": false,
   "toc_position": {},
   "toc_section_display": true,
   "toc_window_display": false
  }
 },
 "nbformat": 4,
 "nbformat_minor": 4
}
