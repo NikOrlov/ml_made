{
 "cells": [
  {
   "cell_type": "code",
   "execution_count": 199,
   "id": "electronic-default",
   "metadata": {},
   "outputs": [],
   "source": [
    "import numpy as np\n",
    "import scipy\n",
    "import time\n",
    "from sklearn.neighbors import KNeighborsClassifier"
   ]
  },
  {
   "cell_type": "code",
   "execution_count": 231,
   "id": "fourth-earth",
   "metadata": {},
   "outputs": [],
   "source": [
    "def time_func(func):\n",
    "    def wrapper(*args):\n",
    "        tic = time.time()\n",
    "        output = func(*args)\n",
    "        toc = time.time()\n",
    "#         print(toc - tic)\n",
    "        return output\n",
    "    return wrapper"
   ]
  },
  {
   "cell_type": "code",
   "execution_count": 232,
   "id": "running-enterprise",
   "metadata": {},
   "outputs": [],
   "source": [
    "class KNearestNeighbor:\n",
    "    def __init__(self):\n",
    "        pass\n",
    "    \n",
    "    def fit(self, X, y):\n",
    "        self.X_train = X\n",
    "        self.y_train = y\n",
    "    \n",
    "    @time_func\n",
    "    def compute_distances_two_loops(self, X):\n",
    "        num_test = X.shape[0]\n",
    "        num_train = self.X_train.shape[0]\n",
    "        dists = np.zeros((num_test, num_train))\n",
    "        for i in range(num_test):\n",
    "            for j in range(num_train):\n",
    "                dists[i][j] = np.sqrt((X[i] - self.X_train[j]) @ (X[i] - self.X_train[j]))\n",
    "        return dists\n",
    "    @time_func\n",
    "    def compute_distances_one_loop(self, X):\n",
    "        num_test = X.shape[0]\n",
    "        num_train = self.X_train.shape[0]\n",
    "        dists = np.zeros((num_test, num_train))\n",
    "        for i in range(num_test):\n",
    "            row_dists = X[i, :] - self.X_train \n",
    "            dists[i, :] = np.sqrt(np.sum(row_dists * row_dists, axis=1))\n",
    "        return dists\n",
    "    \n",
    "    @time_func\n",
    "    def compute_distances_no_loops(self, X):\n",
    "        num_test = X.shape[0]\n",
    "        num_train = self.X_train.shape[0]\n",
    "        dists = np.zeros((num_test, num_train))\n",
    "        sub = np.expand_dims(X, axis=1) - np.expand_dims(self.X_train, axis=0)\n",
    "        dists = np.sqrt(np.sum(sub * sub, axis=2))\n",
    "        return dists\n",
    "    \n",
    "    \n",
    "    def test_dists(self):\n",
    "        k = np.random.randint(1, 100)\n",
    "        X_test = np.random.rand(k, self.X_train.shape[1])\n",
    "        dists_true = scipy.spatial.distance.cdist(X_test, self.X_train)\n",
    "        assert np.allclose(dists_true, self.compute_distances_two_loops(X_test))\n",
    "        assert np.allclose(dists_true, self.compute_distances_one_loop(X_test))\n",
    "        assert np.allclose(dists_true, self.compute_distances_no_loops(X_test))\n",
    "\n",
    "        \n",
    "    def predict(self, X, k=5, num_loops=0):\n",
    "        if num_loops == 2:\n",
    "            dists = self.compute_distances_two_loops(X)\n",
    "        elif num_loops == 1:\n",
    "            dists = self.compute_distances_one_loop(X)\n",
    "        elif num_loops == 0:\n",
    "            dists = self.compute_distances_no_loops(X)\n",
    "        else:\n",
    "            raise ValueError(f'Invalid value {num_loops} for num_loops')\n",
    "        return self.predict_labels(dists, k)\n",
    "        \n",
    "    def predict_labels(self, dists, k=1):\n",
    "        num_test = dists.shape[0]\n",
    "        y_pred = np.zeros(num_test)\n",
    "        for i in range(num_test):\n",
    "            top_k_args = np.argsort(dists[i])[:k]  \n",
    "            closest_y = self.y_train[top_k_args]\n",
    "            y_pred[i] = np.bincount(closest_y).argmax()\n",
    "        return y_pred\n",
    "    \n",
    "    def test_predict_labels(self):\n",
    "        k = np.random.randint(1,20)\n",
    "        knn_true = KNeighborsClassifier(n_neighbors=k)\n",
    "        \n",
    "        knn_true.fit(self.X_train, self.y_train)\n",
    "        test_size = np.random.randint(1,10)\n",
    "        X_test = np.random.rand(test_size, self.X_train.shape[1])\n",
    "        \n",
    "        assert np.allclose(knn_true.predict(X_test), self.predict(X_test, k))"
   ]
  },
  {
   "cell_type": "code",
   "execution_count": 233,
   "id": "behind-title",
   "metadata": {},
   "outputs": [],
   "source": [
    "train_size = 4500\n",
    "num_features = 100\n",
    "X_train = np.random.rand(train_size, num_features)\n",
    "y_train = np.random.randint(0, 2, size=(train_size))"
   ]
  },
  {
   "cell_type": "code",
   "execution_count": 234,
   "id": "authentic-latex",
   "metadata": {},
   "outputs": [],
   "source": [
    "knn = KNearestNeighbor()\n",
    "knn.fit(X_train, y_train)"
   ]
  },
  {
   "cell_type": "code",
   "execution_count": 235,
   "id": "honey-version",
   "metadata": {},
   "outputs": [],
   "source": [
    "knn.test_dists()\n",
    "knn.test_predict_labels()"
   ]
  },
  {
   "cell_type": "code",
   "execution_count": 206,
   "id": "entitled-concord",
   "metadata": {},
   "outputs": [],
   "source": [
    "import time"
   ]
  },
  {
   "cell_type": "code",
   "execution_count": 207,
   "id": "environmental-heating",
   "metadata": {},
   "outputs": [],
   "source": [
    "knn_test = KNearestNeighbor()"
   ]
  },
  {
   "cell_type": "code",
   "execution_count": 208,
   "id": "dental-dialogue",
   "metadata": {},
   "outputs": [],
   "source": [
    "def time_function(f, *args):\n",
    "    \"\"\"\n",
    "    Call a function f with args and return the time (in seconds) that it took to execute.\n",
    "    \"\"\"\n",
    "    tic = time.time()\n",
    "    output = f(*args)\n",
    "    toc = time.time()\n",
    "    return toc - tic, output"
   ]
  },
  {
   "cell_type": "code",
   "execution_count": 221,
   "id": "honey-cutting",
   "metadata": {},
   "outputs": [],
   "source": [
    "test_size = np.random.randint(100,1000)\n",
    "k = 5"
   ]
  },
  {
   "cell_type": "code",
   "execution_count": 222,
   "id": "optical-resort",
   "metadata": {},
   "outputs": [],
   "source": [
    "knn_test.fit(X_train, y_train)\n",
    "np.random.seed(42)\n",
    "X_test = np.random.rand(test_size, num_features)\n",
    "# real_distances = KNeighborsClassifier(k).fit(X_train, y_train).predict(X_test)\n",
    "real_distances = scipy.spatial.distance.cdist(X_test, X_train)\n",
    "two_loop_time, out_2_loops = time_function(knn_test.compute_distances_two_loops, X_test)\n",
    "assert np.allclose(real_distances, out_2_loops)"
   ]
  },
  {
   "cell_type": "code",
   "execution_count": 223,
   "id": "derived-tucson",
   "metadata": {},
   "outputs": [],
   "source": [
    "np.random.seed(42)\n",
    "X_test = np.random.rand(test_size, num_features)\n",
    "real_distances = scipy.spatial.distance.cdist(X_test, X_train)\n",
    "one_loop_time, out_1_loops = time_function(knn_test.compute_distances_one_loop, X_test)\n",
    "assert np.allclose(real_distances, out_1_loops)"
   ]
  },
  {
   "cell_type": "code",
   "execution_count": 224,
   "id": "changed-character",
   "metadata": {},
   "outputs": [],
   "source": [
    "np.random.seed(42)\n",
    "X_test = np.random.rand(test_size, num_features)\n",
    "real_distances = scipy.spatial.distance.cdist(X_test, X_train)\n",
    "no_loop_time, out_2_loops = time_function(knn_test.compute_distances_two_loops, X_test)\n",
    "assert np.allclose(real_distances, out_2_loops)"
   ]
  },
  {
   "cell_type": "code",
   "execution_count": 225,
   "id": "coral-garden",
   "metadata": {},
   "outputs": [
    {
     "data": {
      "text/plain": [
       "(13.402306079864502, 0.4839286804199219, 13.506409406661987)"
      ]
     },
     "execution_count": 225,
     "metadata": {},
     "output_type": "execute_result"
    }
   ],
   "source": [
    "two_loop_time, one_loop_time, no_loop_time"
   ]
  },
  {
   "cell_type": "code",
   "execution_count": null,
   "id": "better-advantage",
   "metadata": {},
   "outputs": [],
   "source": [
    "# np.random.seed(42)\n",
    "# for k in [1, 3, 5, 7, 9]:\n",
    "#     predicted_labels = knn_test.predict(X_test, k=k)\n",
    "#     predicted_labels = np.array(predicted_labels, dtype=int).squeeze()\n",
    "#     real_labels = np.array(y_ref_predictions[k], dtype=int).squeeze()\n",
    "#     assert np.array_equal(predicted_labels, real_labels), 'Wrong answer for k={}'.format(k)"
   ]
  },
  {
   "cell_type": "code",
   "execution_count": null,
   "id": "beautiful-interval",
   "metadata": {},
   "outputs": [],
   "source": []
  }
 ],
 "metadata": {
  "kernelspec": {
   "display_name": "Python 3",
   "language": "python",
   "name": "python3"
  },
  "language_info": {
   "codemirror_mode": {
    "name": "ipython",
    "version": 3
   },
   "file_extension": ".py",
   "mimetype": "text/x-python",
   "name": "python",
   "nbconvert_exporter": "python",
   "pygments_lexer": "ipython3",
   "version": "3.6.12"
  }
 },
 "nbformat": 4,
 "nbformat_minor": 5
}
